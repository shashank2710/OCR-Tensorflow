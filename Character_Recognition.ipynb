{
 "cells": [
  {
   "cell_type": "code",
   "execution_count": 1,
   "metadata": {},
   "outputs": [
    {
     "name": "stderr",
     "output_type": "stream",
     "text": [
      "/home/ssatyanarayana/.virtualenvs/virtual-vision/lib/python3.6/importlib/_bootstrap.py:219: RuntimeWarning: numpy.dtype size changed, may indicate binary incompatibility. Expected 96, got 88\n",
      "  return f(*args, **kwds)\n",
      "/home/ssatyanarayana/.virtualenvs/virtual-vision/lib/python3.6/importlib/_bootstrap.py:219: RuntimeWarning: numpy.dtype size changed, may indicate binary incompatibility. Expected 96, got 88\n",
      "  return f(*args, **kwds)\n",
      "Using TensorFlow backend.\n"
     ]
    }
   ],
   "source": [
    "import numpy as np\n",
    "import pandas as pd\n",
    "\n",
    "import keras\n",
    "from keras import backend as K\n",
    "from keras.models import Sequential\n",
    "from keras.layers import Activation\n",
    "from keras.layers.core import Dense, Flatten, Permute, Reshape\n",
    "from keras.optimizers import Adam\n",
    "from keras.metrics import categorical_crossentropy\n",
    "from keras.preprocessing.image import ImageDataGenerator\n",
    "from keras.layers.normalization import BatchNormalization\n",
    "from keras.layers.convolutional import *\n",
    "from keras.layers.wrappers import Bidirectional\n",
    "from keras.layers.recurrent import LSTM\n",
    "from keras.models import Sequential\n",
    "from keras.regularizers import l2\n",
    "from keras.utils.vis_utils import plot_model\n",
    "\n",
    "from sklearn.metrics import confusion_matrix\n",
    "import itertools\n",
    "import matplotlib.pyplot as plt\n",
    "%matplotlib inline\n",
    "\n",
    "import tensorflow as tf\n"
   ]
  },
  {
   "cell_type": "code",
   "execution_count": 2,
   "metadata": {},
   "outputs": [],
   "source": [
    "train_path = 'Data/Train'\n",
    "valid_path = 'Data/Validate'\n",
    "test_path = 'Data/Test'"
   ]
  },
  {
   "cell_type": "code",
   "execution_count": 3,
   "metadata": {},
   "outputs": [
    {
     "name": "stdout",
     "output_type": "stream",
     "text": [
      "Found 36576 images belonging to 36 classes.\n"
     ]
    }
   ],
   "source": [
    "train_batches = ImageDataGenerator().flow_from_directory(train_path, target_size=(128,128), classes=['Sample001','Sample002','Sample003','Sample004','Sample005','Sample006','Sample007','Sample008','Sample009','Sample010','Sample011','Sample012','Sample013','Sample014','Sample015','Sample016','Sample017','Sample018','Sample019','Sample020','Sample021','Sample022','Sample023','Sample024','Sample025','Sample026','Sample027','Sample028','Sample029','Sample030','Sample031','Sample032','Sample033','Sample034','Sample035','Sample036'], batch_size=15)"
   ]
  },
  {
   "cell_type": "code",
   "execution_count": 4,
   "metadata": {},
   "outputs": [
    {
     "name": "stdout",
     "output_type": "stream",
     "text": [
      "Found 5795 images belonging to 36 classes.\n"
     ]
    }
   ],
   "source": [
    "valid_batches= ImageDataGenerator().flow_from_directory(valid_path, target_size=(128,128), classes=['Sample001','Sample002','Sample003','Sample004','Sample005','Sample006','Sample007','Sample008','Sample009','Sample010','Sample011','Sample012','Sample013','Sample014','Sample015','Sample016','Sample017','Sample018','Sample019','Sample020','Sample021','Sample022','Sample023','Sample024','Sample025','Sample026','Sample027','Sample028','Sample029','Sample030','Sample031','Sample032','Sample033','Sample034','Sample035','Sample036'], batch_size=15)"
   ]
  },
  {
   "cell_type": "code",
   "execution_count": 5,
   "metadata": {
    "scrolled": true
   },
   "outputs": [
    {
     "name": "stdout",
     "output_type": "stream",
     "text": [
      "Found 1980 images belonging to 36 classes.\n"
     ]
    }
   ],
   "source": [
    "test_batches= ImageDataGenerator().flow_from_directory(test_path, target_size=(128,128), classes=['Sample001','Sample002','Sample003','Sample004','Sample005','Sample006','Sample007','Sample008','Sample009','Sample010','Sample011','Sample012','Sample013','Sample014','Sample015','Sample016','Sample017','Sample018','Sample019','Sample020','Sample021','Sample022','Sample023','Sample024','Sample025','Sample026','Sample027','Sample028','Sample029','Sample030','Sample031','Sample032','Sample033','Sample034','Sample035','Sample036'], batch_size=15)"
   ]
  },
  {
   "cell_type": "code",
   "execution_count": 6,
   "metadata": {},
   "outputs": [
    {
     "name": "stderr",
     "output_type": "stream",
     "text": [
      "/home/ssatyanarayana/.virtualenvs/virtual-vision/lib/python3.6/site-packages/ipykernel_launcher.py:9: UserWarning: Update your `Conv2D` call to the Keras 2 API: `Conv2D(64, kernel_size=(3, 3), padding=\"same\", activation=\"relu\", input_shape=(128, 128,..., kernel_regularizer=<keras.reg...)`\n",
      "  if __name__ == '__main__':\n",
      "/home/ssatyanarayana/.virtualenvs/virtual-vision/lib/python3.6/site-packages/ipykernel_launcher.py:13: UserWarning: Update your `Conv2D` call to the Keras 2 API: `Conv2D(128, kernel_size=(3, 3), padding=\"same\", activation=\"relu\", kernel_regularizer=<keras.reg...)`\n",
      "  del sys.path[0]\n",
      "/home/ssatyanarayana/.virtualenvs/virtual-vision/lib/python3.6/site-packages/ipykernel_launcher.py:17: UserWarning: Update your `Conv2D` call to the Keras 2 API: `Conv2D(256, kernel_size=(3, 3), padding=\"same\", activation=\"relu\", kernel_regularizer=<keras.reg...)`\n",
      "/home/ssatyanarayana/.virtualenvs/virtual-vision/lib/python3.6/site-packages/ipykernel_launcher.py:21: UserWarning: Update your `Conv2D` call to the Keras 2 API: `Conv2D(256, kernel_size=(3, 3), padding=\"same\", activation=\"relu\", kernel_regularizer=<keras.reg...)`\n",
      "/home/ssatyanarayana/.virtualenvs/virtual-vision/lib/python3.6/site-packages/ipykernel_launcher.py:25: UserWarning: Update your `Conv2D` call to the Keras 2 API: `Conv2D(512, kernel_size=(3, 3), padding=\"same\", activation=\"relu\", kernel_regularizer=<keras.reg...)`\n",
      "/home/ssatyanarayana/.virtualenvs/virtual-vision/lib/python3.6/site-packages/ipykernel_launcher.py:29: UserWarning: Update your `Conv2D` call to the Keras 2 API: `Conv2D(512, kernel_size=(3, 3), padding=\"same\", activation=\"relu\", kernel_regularizer=<keras.reg...)`\n",
      "/home/ssatyanarayana/.virtualenvs/virtual-vision/lib/python3.6/site-packages/ipykernel_launcher.py:33: UserWarning: Update your `Conv2D` call to the Keras 2 API: `Conv2D(512, kernel_size=(3, 3), padding=\"same\", activation=\"relu\", kernel_regularizer=<keras.reg...)`\n"
     ]
    }
   ],
   "source": [
    "weight_decay = 0.001\n",
    "input_shape=(128,128,3)\n",
    "batchSize=8\n",
    "num_classes=36\n",
    "epochs=20\n",
    "\n",
    "model = Sequential()\n",
    "\n",
    "model.add(Conv2D(64, kernel_size=(3,3), W_regularizer=l2(weight_decay), padding=\"same\", activation=\"relu\", input_shape=input_shape))\n",
    "model.add(BatchNormalization())\n",
    "model.add(MaxPooling2D(pool_size=(2, 2), strides=(2, 2)))\n",
    "\n",
    "model.add(Conv2D(128, kernel_size=(3,3), W_regularizer=l2(weight_decay), padding=\"same\", activation=\"relu\"))\n",
    "model.add(BatchNormalization())\n",
    "model.add(MaxPooling2D(pool_size=(2, 2), strides=(2, 2)))\n",
    "\n",
    "model.add(Conv2D(256, kernel_size=(3,3), W_regularizer=l2(weight_decay), padding=\"same\", activation=\"relu\"))\n",
    "model.add(BatchNormalization())\n",
    "model.add(MaxPooling2D(pool_size=(2, 2), strides=(2, 2)))\n",
    "\n",
    "model.add(Conv2D(256, kernel_size=(3,3), W_regularizer=l2(weight_decay), padding=\"same\", activation=\"relu\"))\n",
    "model.add(BatchNormalization())\n",
    "model.add(MaxPooling2D(pool_size=(2, 2), strides=(2, 2)))\n",
    "\n",
    "model.add(Conv2D(512, kernel_size=(3,3), W_regularizer=l2(weight_decay), padding=\"same\", activation=\"relu\"))\n",
    "model.add(BatchNormalization())\n",
    "model.add(MaxPooling2D(pool_size=(2, 2), strides=(2, 2)))\n",
    "\n",
    "model.add(Conv2D(512, kernel_size=(3,3), W_regularizer=l2(weight_decay),padding=\"same\", activation=\"relu\"))\n",
    "model.add(BatchNormalization())\n",
    "model.add(MaxPooling2D(pool_size=(2, 2), strides=(2, 2)))\n",
    "\n",
    "model.add(Conv2D(512, kernel_size=(3,3), W_regularizer=l2(weight_decay), padding=\"same\", activation=\"relu\"))\n",
    "model.add(BatchNormalization())\n",
    "model.add(MaxPooling2D(pool_size=(2, 2), strides=(2, 2)))\n",
    "\n",
    "    # (bs, y, x, c) --> (bs, x, y, c)\n",
    "model.add(Permute((2, 1, 3)))\n",
    "\n",
    "    # (bs, x, y, c) --> (bs, x, y * c)\n",
    "bs, x, y, c = model.layers[-1].output_shape\n",
    "model.add(Reshape((x, y*c)))\n",
    "\n",
    "model.add(Bidirectional(LSTM(256, return_sequences=False), merge_mode=\"concat\"))\n",
    "model.add(Dense(num_classes, activation=\"softmax\"))"
   ]
  },
  {
   "cell_type": "code",
   "execution_count": 7,
   "metadata": {},
   "outputs": [
    {
     "name": "stdout",
     "output_type": "stream",
     "text": [
      "_________________________________________________________________\n",
      "Layer (type)                 Output Shape              Param #   \n",
      "=================================================================\n",
      "conv2d_1 (Conv2D)            (None, 128, 128, 64)      1792      \n",
      "_________________________________________________________________\n",
      "batch_normalization_1 (Batch (None, 128, 128, 64)      256       \n",
      "_________________________________________________________________\n",
      "max_pooling2d_1 (MaxPooling2 (None, 64, 64, 64)        0         \n",
      "_________________________________________________________________\n",
      "conv2d_2 (Conv2D)            (None, 64, 64, 128)       73856     \n",
      "_________________________________________________________________\n",
      "batch_normalization_2 (Batch (None, 64, 64, 128)       512       \n",
      "_________________________________________________________________\n",
      "max_pooling2d_2 (MaxPooling2 (None, 32, 32, 128)       0         \n",
      "_________________________________________________________________\n",
      "conv2d_3 (Conv2D)            (None, 32, 32, 256)       295168    \n",
      "_________________________________________________________________\n",
      "batch_normalization_3 (Batch (None, 32, 32, 256)       1024      \n",
      "_________________________________________________________________\n",
      "max_pooling2d_3 (MaxPooling2 (None, 16, 16, 256)       0         \n",
      "_________________________________________________________________\n",
      "conv2d_4 (Conv2D)            (None, 16, 16, 256)       590080    \n",
      "_________________________________________________________________\n",
      "batch_normalization_4 (Batch (None, 16, 16, 256)       1024      \n",
      "_________________________________________________________________\n",
      "max_pooling2d_4 (MaxPooling2 (None, 8, 8, 256)         0         \n",
      "_________________________________________________________________\n",
      "conv2d_5 (Conv2D)            (None, 8, 8, 512)         1180160   \n",
      "_________________________________________________________________\n",
      "batch_normalization_5 (Batch (None, 8, 8, 512)         2048      \n",
      "_________________________________________________________________\n",
      "max_pooling2d_5 (MaxPooling2 (None, 4, 4, 512)         0         \n",
      "_________________________________________________________________\n",
      "conv2d_6 (Conv2D)            (None, 4, 4, 512)         2359808   \n",
      "_________________________________________________________________\n",
      "batch_normalization_6 (Batch (None, 4, 4, 512)         2048      \n",
      "_________________________________________________________________\n",
      "max_pooling2d_6 (MaxPooling2 (None, 2, 2, 512)         0         \n",
      "_________________________________________________________________\n",
      "conv2d_7 (Conv2D)            (None, 2, 2, 512)         2359808   \n",
      "_________________________________________________________________\n",
      "batch_normalization_7 (Batch (None, 2, 2, 512)         2048      \n",
      "_________________________________________________________________\n",
      "max_pooling2d_7 (MaxPooling2 (None, 1, 1, 512)         0         \n",
      "_________________________________________________________________\n",
      "permute_1 (Permute)          (None, 1, 1, 512)         0         \n",
      "_________________________________________________________________\n",
      "reshape_1 (Reshape)          (None, 1, 512)            0         \n",
      "_________________________________________________________________\n",
      "bidirectional_1 (Bidirection (None, 512)               1574912   \n",
      "_________________________________________________________________\n",
      "dense_1 (Dense)              (None, 36)                18468     \n",
      "=================================================================\n",
      "Total params: 8,463,012\n",
      "Trainable params: 8,458,532\n",
      "Non-trainable params: 4,480\n",
      "_________________________________________________________________\n"
     ]
    }
   ],
   "source": [
    "model.summary()"
   ]
  },
  {
   "cell_type": "code",
   "execution_count": 8,
   "metadata": {},
   "outputs": [],
   "source": [
    "model.compile(loss=keras.losses.categorical_crossentropy,optimizer=keras.optimizers.Adadelta(),metrics=['accuracy'])"
   ]
  },
  {
   "cell_type": "code",
   "execution_count": 9,
   "metadata": {},
   "outputs": [
    {
     "name": "stdout",
     "output_type": "stream",
     "text": [
      "Epoch 1/20\n",
      "2439/2439 [==============================] - 193s 79ms/step - loss: 1.1468 - acc: 0.8837 - val_loss: 9.2646 - val_acc: 0.0566\n",
      "Epoch 2/20\n",
      "2439/2439 [==============================] - 138s 56ms/step - loss: 0.6616 - acc: 0.9259 - val_loss: 6.7602 - val_acc: 0.0583\n",
      "Epoch 3/20\n",
      "2439/2439 [==============================] - 138s 57ms/step - loss: 0.6211 - acc: 0.9299 - val_loss: 7.6165 - val_acc: 0.0590\n",
      "Epoch 4/20\n",
      "2439/2439 [==============================] - 135s 55ms/step - loss: 0.5790 - acc: 0.9364 - val_loss: 7.6909 - val_acc: 0.0571\n",
      "Epoch 5/20\n",
      "2439/2439 [==============================] - 137s 56ms/step - loss: 0.5379 - acc: 0.9386 - val_loss: 9.1263 - val_acc: 0.0585\n",
      "Epoch 6/20\n",
      "2439/2439 [==============================] - 136s 56ms/step - loss: 0.4912 - acc: 0.9450 - val_loss: 8.7813 - val_acc: 0.0531\n",
      "Epoch 7/20\n",
      "2439/2439 [==============================] - 135s 55ms/step - loss: 0.4348 - acc: 0.9498 - val_loss: 6.9965 - val_acc: 0.0571\n",
      "Epoch 8/20\n",
      "2439/2439 [==============================] - 137s 56ms/step - loss: 0.3890 - acc: 0.9540 - val_loss: 4.7702 - val_acc: 0.0552\n",
      "Epoch 9/20\n",
      "2439/2439 [==============================] - 137s 56ms/step - loss: 0.3439 - acc: 0.9581 - val_loss: 6.0153 - val_acc: 0.0613\n",
      "Epoch 10/20\n",
      "2439/2439 [==============================] - 136s 56ms/step - loss: 0.3140 - acc: 0.9610 - val_loss: 7.0301 - val_acc: 0.0580\n",
      "Epoch 11/20\n",
      "2439/2439 [==============================] - 139s 57ms/step - loss: 0.2923 - acc: 0.9637 - val_loss: 5.5620 - val_acc: 0.0582\n",
      "Epoch 12/20\n",
      "2439/2439 [==============================] - 139s 57ms/step - loss: 0.2826 - acc: 0.9648 - val_loss: 6.8813 - val_acc: 0.0568\n",
      "Epoch 13/20\n",
      "2439/2439 [==============================] - 134s 55ms/step - loss: 0.2613 - acc: 0.9663 - val_loss: 3.8714 - val_acc: 0.0630\n",
      "Epoch 14/20\n",
      "2439/2439 [==============================] - 138s 56ms/step - loss: 0.2470 - acc: 0.9681 - val_loss: 6.3863 - val_acc: 0.0192\n",
      "Epoch 15/20\n",
      "2439/2439 [==============================] - 139s 57ms/step - loss: 0.2309 - acc: 0.9711 - val_loss: 3.7124 - val_acc: 0.0497\n",
      "Epoch 16/20\n",
      "2439/2439 [==============================] - 138s 57ms/step - loss: 0.2233 - acc: 0.9707 - val_loss: 4.0503 - val_acc: 0.0538\n",
      "Epoch 17/20\n",
      "2439/2439 [==============================] - 138s 56ms/step - loss: 0.2131 - acc: 0.9718 - val_loss: 5.7660 - val_acc: 0.0576\n",
      "Epoch 18/20\n",
      "2439/2439 [==============================] - 138s 57ms/step - loss: 0.2049 - acc: 0.9733 - val_loss: 6.6969 - val_acc: 0.0557\n",
      "Epoch 19/20\n",
      "2439/2439 [==============================] - 141s 58ms/step - loss: 0.2043 - acc: 0.9724 - val_loss: 3.9715 - val_acc: 0.0304\n",
      "Epoch 20/20\n",
      "2439/2439 [==============================] - 140s 57ms/step - loss: 0.1990 - acc: 0.9735 - val_loss: 3.8080 - val_acc: 0.0072\n"
     ]
    }
   ],
   "source": [
    "OcrData=model.fit_generator(train_batches,epochs=epochs,verbose=1,validation_data=valid_batches)"
   ]
  }
 ],
 "metadata": {
  "kernelspec": {
   "display_name": "Python 3",
   "language": "python",
   "name": "python3"
  },
  "language_info": {
   "codemirror_mode": {
    "name": "ipython",
    "version": 3
   },
   "file_extension": ".py",
   "mimetype": "text/x-python",
   "name": "python",
   "nbconvert_exporter": "python",
   "pygments_lexer": "ipython3",
   "version": "3.6.5"
  }
 },
 "nbformat": 4,
 "nbformat_minor": 2
}
